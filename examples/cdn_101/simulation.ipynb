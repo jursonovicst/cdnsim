{
 "cells": [
  {
   "cell_type": "code",
   "id": "initial_id",
   "metadata": {
    "collapsed": true,
    "ExecuteTime": {
     "end_time": "2024-11-21T14:28:50.897464Z",
     "start_time": "2024-11-21T14:28:50.892177Z"
    }
   },
   "source": [
    "from nodes.log import LoggerMixIn, LogMixIn\n",
    "\n",
    "LoggerMixIn.setlevel(LogMixIn.INFO)"
   ],
   "outputs": [],
   "execution_count": 11
  },
  {
   "metadata": {},
   "cell_type": "markdown",
   "source": [
    "Create a simple CDN setup consisting of two clients, two caches and a single origin.\n",
    "\n",
    "```\n",
    "[client1] -┐┌-> [cache1] -┐\n",
    "           ├┤             ├-> [cache3] --> [origin]\n",
    "[client2] -┘└-> [cache2] -┘\n",
    "```\n",
    "\n",
    "The clients are requesting different profiles of Zipf distribution according to different arrival processes, the\n",
    "caches are LFU Caches, meaning, they evict the least frequently used objects, and the origin is a simple origin.\n"
   ],
   "id": "aba37f720dfe4745"
  },
  {
   "metadata": {
    "ExecuteTime": {
     "end_time": "2024-11-21T14:28:53.461885Z",
     "start_time": "2024-11-21T14:28:53.457826Z"
    }
   },
   "cell_type": "code",
   "source": "",
   "id": "6031f8f72372d3e0",
   "outputs": [],
   "execution_count": null
  },
  {
   "metadata": {
    "ExecuteTime": {
     "end_time": "2024-11-21T14:28:53.960951Z",
     "start_time": "2024-11-21T14:28:53.954792Z"
    }
   },
   "cell_type": "code",
   "source": [
    "from cdnsim.arrival import Arrival\n",
    "\n",
    "\n",
    "class Poisson(Arrival):\n",
    "    def __init__(self, lam: float, **kwargs):\n",
    "        super().__init__(**kwargs)\n",
    "        if lam <= 1:\n",
    "            raise ValueError(f\"lambda for poisson should be greater or equal to 1, got: {lam}\")\n",
    "        self.__lam = lam\n",
    "        self.__rng = np.random.default_rng()\n",
    "\n",
    "    def __next__(self) -> int:\n",
    "        if self._tick <= 0:\n",
    "            raise StopIteration\n",
    "        self._tick -= 1\n",
    "        return int(self.__rng.poisson(self.__lam, 1)[0])\n"
   ],
   "id": "98daa3ce0678e456",
   "outputs": [],
   "execution_count": 12
  },
  {
   "metadata": {
    "ExecuteTime": {
     "end_time": "2024-11-21T14:28:54.913412Z",
     "start_time": "2024-11-21T14:28:54.910232Z"
    }
   },
   "cell_type": "code",
   "source": "",
   "id": "269ffee4de27037f",
   "outputs": [],
   "execution_count": null
  },
  {
   "metadata": {
    "ExecuteTime": {
     "end_time": "2024-11-21T14:28:55.265196Z",
     "start_time": "2024-11-21T14:28:55.254534Z"
    }
   },
   "cell_type": "code",
   "source": [
    "from scipy.stats import zipfian, binom\n",
    "\n",
    "from typing import Iterator, List, Tuple\n",
    "\n",
    "import numpy as np\n",
    "\n",
    "from cdnsim import Client\n",
    "from cdnsim.arrival import Arrival\n",
    "from cdnsim.requests import Requests\n",
    "\n",
    "\n",
    "class ZipfClient(Client):\n",
    "\n",
    "    def __init__(self, cbase: int, n: int, p: float, a: float, arrival: Arrival):\n",
    "        self._cbase = cbase\n",
    "        self._csize = binom.rvs(n, p, size=cbase)\n",
    "        self._a = a\n",
    "        self._arrival = arrival\n",
    "        super().__init__()\n",
    "\n",
    "    def _generate(self) -> Iterator[List[Tuple[str, Requests]]]:\n",
    "        for k in self._arrival:\n",
    "            r = np.unique(zipfian.rvs(self._a, self._cbase, size=k), return_counts=True)\n",
    "            yield [(remote, request) for remote, request in zip(self.remotes,\n",
    "                                                                Requests(freqs=list(r[1]),\n",
    "                                                                         index={\n",
    "                                                                             'time': np.full(self._cbase, self._tick),\n",
    "                                                                             'size': self._csize,\n",
    "                                                                             'content': list(r[0])}) // len(\n",
    "                                                                    self.remotes))]\n"
   ],
   "id": "3259536f6630e285",
   "outputs": [],
   "execution_count": 13
  },
  {
   "metadata": {
    "ExecuteTime": {
     "end_time": "2024-11-21T14:28:55.952944Z",
     "start_time": "2024-11-21T14:28:55.942788Z"
    }
   },
   "cell_type": "code",
   "source": "",
   "id": "422708390810a14a",
   "outputs": [],
   "execution_count": null
  },
  {
   "metadata": {
    "ExecuteTime": {
     "end_time": "2024-11-21T14:28:56.186024Z",
     "start_time": "2024-11-21T14:28:56.175259Z"
    }
   },
   "cell_type": "code",
   "source": [
    "client1 = ZipfClient(cbase=20, n=50, p=0.5, a=1.6, arrival=Poisson(lam=50, ticks=10))\n",
    "client2 = ZipfClient(cbase=100, n=200, p=0.3, a=1.1, arrival=Poisson(lam=80, ticks=10))"
   ],
   "id": "72e71fc456f087e6",
   "outputs": [],
   "execution_count": 14
  },
  {
   "metadata": {
    "ExecuteTime": {
     "end_time": "2024-11-21T14:29:00.308604Z",
     "start_time": "2024-11-21T14:29:00.297500Z"
    }
   },
   "cell_type": "code",
   "source": "",
   "id": "a890a2dcc6e1ff44",
   "outputs": [],
   "execution_count": null
  },
  {
   "metadata": {
    "ExecuteTime": {
     "end_time": "2024-11-21T14:29:00.633195Z",
     "start_time": "2024-11-21T14:29:00.625109Z"
    }
   },
   "cell_type": "code",
   "source": [
    "from cdnsim.cache.cache import Cache\n",
    "\n",
    "from typing import cast\n",
    "\n",
    "\n",
    "class PLFUCache(Cache):\n",
    "    def __init__(self, size: int, **kwargs):\n",
    "        super().__init__(**kwargs)\n",
    "        self._size = size\n",
    "\n",
    "    def _work(self) -> None:\n",
    "        while recv := self._receive():\n",
    "            requests = cast(Requests, sum(recv))  # <-- TODO: this can be abstracted in a higher layer\n",
    "            misses = requests.sort_values(ascending=False).reset_index('size').prod(axis=1).cumsum().index\n",
    "\n",
    "            for remote, request in zip(self.remotes, request[misses] // len(self.remotes)):\n",
    "                self._send(remote, request)\n",
    "        self._terminate()\n"
   ],
   "id": "aa660e1c5c6d4270",
   "outputs": [],
   "execution_count": 15
  },
  {
   "metadata": {
    "ExecuteTime": {
     "end_time": "2024-11-21T14:29:01.062580Z",
     "start_time": "2024-11-21T14:29:01.058584Z"
    }
   },
   "cell_type": "code",
   "source": "",
   "id": "65082ead2a2f66c5",
   "outputs": [],
   "execution_count": null
  },
  {
   "metadata": {
    "ExecuteTime": {
     "end_time": "2024-11-21T14:29:12.157292Z",
     "start_time": "2024-11-21T14:29:12.151259Z"
    }
   },
   "cell_type": "code",
   "source": [
    "cache1 = PLFUCache(size=10)\n",
    "cache2 = PLFUCache(size=10)\n",
    "cache3 = PLFUCache(size=20)\n"
   ],
   "id": "eacac86454ca5f31",
   "outputs": [],
   "execution_count": 16
  },
  {
   "metadata": {
    "ExecuteTime": {
     "end_time": "2024-11-21T14:29:13.401620Z",
     "start_time": "2024-11-21T14:29:13.397974Z"
    }
   },
   "cell_type": "code",
   "source": "",
   "id": "6d5fd89c06d8a144",
   "outputs": [],
   "execution_count": null
  },
  {
   "metadata": {
    "ExecuteTime": {
     "end_time": "2024-11-21T14:26:42.156304Z",
     "start_time": "2024-11-21T14:26:42.148099Z"
    }
   },
   "cell_type": "code",
   "source": [
    "from typing import cast\n",
    "\n",
    "from cdnsim.requests import BaseRequests\n",
    "from nodes.log import LoggerMixIn\n",
    "from nodes.node import LNode\n",
    "\n",
    "\n",
    "class Origin(LoggerMixIn, LNode):\n",
    "\n",
    "    def __init__(self, **kwargs):\n",
    "        super().__init__(**kwargs)\n",
    "        self._requests = BaseRequests([], {'tick': [], 'content': []})\n",
    "\n",
    "    def _work(self) -> None:\n",
    "        while recv := self._receive():\n",
    "            assert isinstance(recv, list) and len(recv) > 0, recv\n",
    "            self._log(f\"received {cast(BaseRequests, sum(recv)).sum()} requests\")\n"
   ],
   "id": "258b830d72b9ddef",
   "outputs": [],
   "execution_count": 7
  },
  {
   "metadata": {
    "ExecuteTime": {
     "end_time": "2024-11-21T14:26:43.328547Z",
     "start_time": "2024-11-21T14:26:43.326521Z"
    }
   },
   "cell_type": "code",
   "source": "",
   "id": "dc9602af11cfa490",
   "outputs": [],
   "execution_count": null
  },
  {
   "metadata": {
    "ExecuteTime": {
     "end_time": "2024-11-21T14:26:44.050030Z",
     "start_time": "2024-11-21T14:26:44.040301Z"
    }
   },
   "cell_type": "code",
   "source": "origin = Origin()",
   "id": "1cd08b7e8ab25925",
   "outputs": [],
   "execution_count": 8
  },
  {
   "metadata": {
    "ExecuteTime": {
     "end_time": "2024-11-21T14:26:45.188574Z",
     "start_time": "2024-11-21T14:26:45.176499Z"
    }
   },
   "cell_type": "code",
   "source": "",
   "id": "d83dde7df30a8fa6",
   "outputs": [],
   "execution_count": null
  },
  {
   "metadata": {
    "ExecuteTime": {
     "end_time": "2024-11-21T14:26:45.664471Z",
     "start_time": "2024-11-21T14:26:45.635476Z"
    }
   },
   "cell_type": "code",
   "source": [
    "# second, establish connections\n",
    "client1.connect_to(cache1)\n",
    "client1.connect_to(cache2)\n",
    "client2.connect_to(cache1)\n",
    "client2.connect_to(cache2)\n",
    "cache1.connect_to(cache3)\n",
    "cache2.connect_to(cache3)\n",
    "cache3.connect_to(origin)"
   ],
   "id": "2018f4f065dba4c",
   "outputs": [],
   "execution_count": 9
  },
  {
   "metadata": {},
   "cell_type": "code",
   "outputs": [],
   "execution_count": null,
   "source": "",
   "id": "721177c0356de7c1"
  },
  {
   "metadata": {
    "ExecuteTime": {
     "end_time": "2024-11-21T14:27:35.846402Z",
     "start_time": "2024-11-21T14:27:35.447714Z"
    }
   },
   "cell_type": "code",
   "source": [
    "# third, run simulation\n",
    "client1.start_all()\n",
    "client1.join_all()\n"
   ],
   "id": "d960b281b6acd364",
   "outputs": [
    {
     "name": "stderr",
     "output_type": "stream",
     "text": [
      "INFO:ZipfClient-1:Start ZipfClient-1\n",
      "INFO:ZipfClient-2:Start ZipfClient-2\n",
      "INFO:PLFUCache-3:Start PLFUCache-3\n",
      "INFO:PLFUCache-4:Start PLFUCache-4\n",
      "INFO:PLFUCache-5:Start PLFUCache-5\n",
      "INFO:Origin-6:Start Origin-6\n",
      "INFO:ZipfClient-1:Join ZipfClient-1\n",
      "INFO:ZipfClient-2:Join ZipfClient-2\n",
      "INFO:PLFUCache-3:Join PLFUCache-3\n",
      "INFO:PLFUCache-4:Join PLFUCache-4\n",
      "INFO:PLFUCache-5:Join PLFUCache-5\n",
      "INFO:Origin-6:Join Origin-6\n"
     ]
    }
   ],
   "execution_count": 10
  },
  {
   "metadata": {
    "ExecuteTime": {
     "end_time": "2024-11-21T14:28:31.035204Z",
     "start_time": "2024-11-21T14:28:31.027250Z"
    }
   },
   "cell_type": "code",
   "source": "",
   "id": "b56f634e481f1501",
   "outputs": [],
   "execution_count": null
  },
  {
   "metadata": {
    "ExecuteTime": {
     "end_time": "2024-11-21T14:28:31.161920Z",
     "start_time": "2024-11-21T14:28:31.155456Z"
    }
   },
   "cell_type": "code",
   "source": "",
   "id": "86101f1563de325c",
   "outputs": [],
   "execution_count": null
  },
  {
   "metadata": {
    "ExecuteTime": {
     "end_time": "2024-11-21T14:28:31.334471Z",
     "start_time": "2024-11-21T14:28:31.330785Z"
    }
   },
   "cell_type": "code",
   "source": "",
   "id": "87fb483e427aec2",
   "outputs": [],
   "execution_count": null
  },
  {
   "metadata": {
    "ExecuteTime": {
     "end_time": "2024-11-21T14:28:31.674184Z",
     "start_time": "2024-11-21T14:28:31.670838Z"
    }
   },
   "cell_type": "code",
   "source": "",
   "id": "7da9f771d1eb6616",
   "outputs": [],
   "execution_count": null
  },
  {
   "metadata": {
    "ExecuteTime": {
     "end_time": "2024-11-21T14:28:32.025654Z",
     "start_time": "2024-11-21T14:28:32.023024Z"
    }
   },
   "cell_type": "code",
   "source": "",
   "id": "576dc301690eacae",
   "outputs": [],
   "execution_count": null
  },
  {
   "metadata": {},
   "cell_type": "code",
   "outputs": [],
   "execution_count": null,
   "source": "",
   "id": "b45d5a6c4b78fd72"
  }
 ],
 "metadata": {
  "kernelspec": {
   "display_name": "Python 3",
   "language": "python",
   "name": "python3"
  },
  "language_info": {
   "codemirror_mode": {
    "name": "ipython",
    "version": 2
   },
   "file_extension": ".py",
   "mimetype": "text/x-python",
   "name": "python",
   "nbconvert_exporter": "python",
   "pygments_lexer": "ipython2",
   "version": "2.7.6"
  }
 },
 "nbformat": 4,
 "nbformat_minor": 5
}
