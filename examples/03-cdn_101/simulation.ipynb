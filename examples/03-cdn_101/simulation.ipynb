{
 "cells": [
  {
   "cell_type": "code",
   "id": "initial_id",
   "metadata": {
    "collapsed": true,
    "ExecuteTime": {
     "end_time": "2024-11-22T07:51:02.176096Z",
     "start_time": "2024-11-22T07:51:02.151286Z"
    }
   },
   "source": [
    "from nodes.log import LoggerMixIn, LogMixIn\n",
    "\n",
    "LoggerMixIn.setlevel(LogMixIn.INFO)"
   ],
   "outputs": [],
   "execution_count": 1
  },
  {
   "metadata": {},
   "cell_type": "markdown",
   "source": [
    "Create a simple CDN setup consisting of two clients, two caches and a single origin.\n",
    "\n",
    "```\n",
    "[client1] -┐┌-> [cache1] -┐\n",
    "           ├┤             ├-> [cache3] --> [origin]\n",
    "[client2] -┘└-> [cache2] -┘\n",
    "```\n",
    "\n",
    "- clients are requesting different profiles of Zipf distribution\n",
    "- with content sizes according to binomial distribution,\n",
    "- according to different poisson arrival processes,\n",
    "- the caches are LFU Caches, meaning, they evict the least frequently used objects,\n",
    "- and the origin is a simple origin.\n",
    "\n",
    "We are interested about the ingress throughput on the origin. "
   ],
   "id": "aba37f720dfe4745"
  },
  {
   "metadata": {
    "ExecuteTime": {
     "end_time": "2024-11-22T07:51:06.486924Z",
     "start_time": "2024-11-22T07:51:03.905050Z"
    }
   },
   "cell_type": "code",
   "source": [
    "# the poisson arrival process implementation\n",
    "from cdnsim.arrival import Arrival\n",
    "from numpy.random import default_rng\n",
    "\n",
    "\n",
    "class Poisson(Arrival):\n",
    "    def __init__(self, lam: float, **kwargs):\n",
    "        super().__init__(**kwargs)\n",
    "        if lam <= 1:\n",
    "            raise ValueError(f\"lambda for poisson should be greater or equal to 1, got: {lam}\")\n",
    "        self.__lam = lam\n",
    "        self.__rng = default_rng()\n",
    "\n",
    "    def __next__(self) -> int:\n",
    "        super().__next__()\n",
    "        return int(self.__rng.poisson(self.__lam, 1)[0])"
   ],
   "id": "98daa3ce0678e456",
   "outputs": [],
   "execution_count": 2
  },
  {
   "metadata": {
    "ExecuteTime": {
     "end_time": "2024-11-22T07:51:07.842535Z",
     "start_time": "2024-11-22T07:51:07.820816Z"
    }
   },
   "cell_type": "code",
   "source": [
    "# it simply generates arrival numbers\n",
    "p = Poisson(lam=100, ticks=5)\n",
    "for i in p:\n",
    "    print(f\"{i} requests at {p.tick} tick\")"
   ],
   "id": "269ffee4de27037f",
   "outputs": [
    {
     "name": "stdout",
     "output_type": "stream",
     "text": [
      "79 requests at 0 tick\n",
      "94 requests at 1 tick\n",
      "100 requests at 2 tick\n",
      "108 requests at 3 tick\n",
      "84 requests at 4 tick\n"
     ]
    }
   ],
   "execution_count": 3
  },
  {
   "metadata": {
    "ExecuteTime": {
     "end_time": "2024-11-22T07:51:09.287254Z",
     "start_time": "2024-11-22T07:51:09.268847Z"
    }
   },
   "cell_type": "code",
   "source": [
    "# extend the BaseRequests to track tick and content sizes\n",
    "from typing import List, Hashable, Dict\n",
    "import pandas as pd\n",
    "from cdnsim.requests import BaseRequests\n",
    "\n",
    "\n",
    "class ThroughputRequests(BaseRequests):\n",
    "\n",
    "    def __init__(self,\n",
    "                 freqs: List[int] = [],\n",
    "                 index: Dict[str, List[Hashable]] = {'tick': [], 'content': [], 'size': []}):\n",
    "        if 'tick' not in index.keys() or 'size' not in index.keys():\n",
    "            raise SyntaxError(f\"'tick', 'size' must be part of the level names, got: {index.keys()}\")\n",
    "        super().__init__(freqs=freqs, index=index)\n",
    "\n",
    "    @property\n",
    "    def rpt(self) -> pd.Series:\n",
    "        return self.groupby('tick').sum()\n",
    "\n",
    "    @property\n",
    "    def bpt(self) -> pd.Series:\n",
    "        return self.reset_index('size').prod(axis=1).groupby('tick').sum()"
   ],
   "id": "57ca98192867970b",
   "outputs": [],
   "execution_count": 4
  },
  {
   "metadata": {
    "ExecuteTime": {
     "end_time": "2024-11-22T07:51:13.409365Z",
     "start_time": "2024-11-22T07:51:11.291637Z"
    }
   },
   "cell_type": "code",
   "source": [
    "# the zipf client implementation\n",
    "from scipy.stats import zipfian, binom\n",
    "\n",
    "from typing import Iterator, List, Tuple\n",
    "\n",
    "import numpy as np\n",
    "\n",
    "from cdnsim import Client\n",
    "from cdnsim.arrival import Arrival\n",
    "\n",
    "\n",
    "class ZipfClient(Client):\n",
    "\n",
    "    def __init__(self, cbase: int, n: int, p: float, a: float, arrival: Arrival):\n",
    "        self._cbase = cbase\n",
    "        self._csize = binom.rvs(n, p, size=cbase)\n",
    "        self._a = a\n",
    "        self._arrival = arrival\n",
    "        super().__init__()\n",
    "\n",
    "    def _generate(self) -> Iterator[List[Tuple[str, ThroughputRequests]]]:\n",
    "        for k in self._arrival:\n",
    "            r = np.unique(zipfian.rvs(self._a, self._cbase, size=k), return_counts=True)\n",
    "            yield [(remote, request) for remote, request in zip(self.remotes,\n",
    "                                                                ThroughputRequests(freqs=list(r[1]),\n",
    "                                                                                   index={\n",
    "                                                                                       'time': np.full(self._cbase,\n",
    "                                                                                                       self.tick),\n",
    "                                                                                       'size': self._csize,\n",
    "                                                                                       'content': list(r[0])}) // len(\n",
    "                                                                    self.remotes))]"
   ],
   "id": "3259536f6630e285",
   "outputs": [],
   "execution_count": 5
  },
  {
   "metadata": {
    "ExecuteTime": {
     "end_time": "2024-11-22T07:51:14.258356Z",
     "start_time": "2024-11-22T07:51:14.254245Z"
    }
   },
   "cell_type": "code",
   "source": "",
   "id": "422708390810a14a",
   "outputs": [],
   "execution_count": null
  },
  {
   "metadata": {
    "ExecuteTime": {
     "end_time": "2024-11-22T07:51:14.920880Z",
     "start_time": "2024-11-22T07:51:14.900866Z"
    }
   },
   "cell_type": "code",
   "source": [
    "# create client\n",
    "client1 = ZipfClient(cbase=20, n=50, p=0.5, a=1.6, arrival=Poisson(lam=50, ticks=10))\n",
    "client2 = ZipfClient(cbase=100, n=200, p=0.3, a=1.1, arrival=Poisson(lam=80, ticks=10))"
   ],
   "id": "72e71fc456f087e6",
   "outputs": [],
   "execution_count": 6
  },
  {
   "metadata": {
    "ExecuteTime": {
     "end_time": "2024-11-22T07:51:16.774259Z",
     "start_time": "2024-11-22T07:51:16.761130Z"
    }
   },
   "cell_type": "code",
   "source": "",
   "id": "a890a2dcc6e1ff44",
   "outputs": [],
   "execution_count": null
  },
  {
   "metadata": {
    "ExecuteTime": {
     "end_time": "2024-11-22T07:51:17.339586Z",
     "start_time": "2024-11-22T07:51:17.326351Z"
    }
   },
   "cell_type": "code",
   "source": [
    "# PLFU cache implementation\n",
    "from cdnsim.cache.cache import Cache\n",
    "\n",
    "\n",
    "class PLFUCache(Cache):\n",
    "    def __init__(self, size: int, **kwargs):\n",
    "        super().__init__(**kwargs)\n",
    "        self._size = size\n",
    "\n",
    "    def _work(self) -> None:\n",
    "        while recv := self._receive():\n",
    "            requests = cast(ThroughputRequests, sum(recv))  # <-- TODO: this can be abstracted in a higher layer\n",
    "            \n",
    "            # blablabla... \n",
    "            misses = requests.sort_values(ascending=False).reset_index('size').prod(axis=1).cumsum().index\n",
    "\n",
    "            # blablabla...\n",
    "            for remote, request in zip(self.remotes, request[misses] // len(self.remotes)):\n",
    "                self._send(remote, request)\n",
    "        self._terminate()\n"
   ],
   "id": "aa660e1c5c6d4270",
   "outputs": [],
   "execution_count": 7
  },
  {
   "metadata": {
    "ExecuteTime": {
     "end_time": "2024-11-22T07:51:18.491283Z",
     "start_time": "2024-11-22T07:51:18.474551Z"
    }
   },
   "cell_type": "code",
   "source": [
    "# create caches\n",
    "cache1 = PLFUCache(size=10)\n",
    "cache2 = PLFUCache(size=10)\n",
    "cache3 = PLFUCache(size=20)"
   ],
   "id": "eacac86454ca5f31",
   "outputs": [],
   "execution_count": 8
  },
  {
   "metadata": {
    "ExecuteTime": {
     "end_time": "2024-11-22T07:51:19.234660Z",
     "start_time": "2024-11-22T07:51:19.223710Z"
    }
   },
   "cell_type": "code",
   "source": [
    "# origin implementation\n",
    "from typing import cast\n",
    "\n",
    "from cdnsim.requests import BaseRequests\n",
    "from nodes.log import LoggerMixIn\n",
    "from nodes.node import LNode\n",
    "\n",
    "\n",
    "class Origin(LoggerMixIn, LNode):\n",
    "\n",
    "    def __init__(self, **kwargs):\n",
    "        super().__init__(**kwargs)\n",
    "        self._requests = BaseRequests([], {'tick': [], 'content': []})\n",
    "\n",
    "    def _work(self) -> None:\n",
    "        while recv := self._receive():\n",
    "            assert isinstance(recv, list) and len(recv) > 0, recv\n",
    "            self._log(f\"received {cast(BaseRequests, sum(recv)).sum()} requests\")\n"
   ],
   "id": "258b830d72b9ddef",
   "outputs": [],
   "execution_count": 9
  },
  {
   "metadata": {
    "ExecuteTime": {
     "end_time": "2024-11-22T07:51:20.529021Z",
     "start_time": "2024-11-22T07:51:20.521655Z"
    }
   },
   "cell_type": "code",
   "source": [
    "# create origin\n",
    "origin = Origin()"
   ],
   "id": "1cd08b7e8ab25925",
   "outputs": [],
   "execution_count": 10
  },
  {
   "metadata": {
    "ExecuteTime": {
     "end_time": "2024-11-22T07:51:21.139238Z",
     "start_time": "2024-11-22T07:51:21.116534Z"
    }
   },
   "cell_type": "code",
   "source": [
    "# establish connections\n",
    "client1.connect_to(cache1)\n",
    "client1.connect_to(cache2)\n",
    "client2.connect_to(cache1)\n",
    "client2.connect_to(cache2)\n",
    "cache1.connect_to(cache3)\n",
    "cache2.connect_to(cache3)\n",
    "cache3.connect_to(origin)"
   ],
   "id": "2018f4f065dba4c",
   "outputs": [],
   "execution_count": 11
  },
  {
   "metadata": {
    "ExecuteTime": {
     "end_time": "2024-11-22T07:51:23.866774Z",
     "start_time": "2024-11-22T07:51:23.493579Z"
    }
   },
   "cell_type": "code",
   "source": [
    "# run simulation\n",
    "client1.start_all()\n",
    "client1.join_all()"
   ],
   "id": "d960b281b6acd364",
   "outputs": [],
   "execution_count": 12
  },
  {
   "metadata": {
    "ExecuteTime": {
     "end_time": "2024-11-21T14:28:31.035204Z",
     "start_time": "2024-11-21T14:28:31.027250Z"
    }
   },
   "cell_type": "code",
   "source": "",
   "id": "b56f634e481f1501",
   "outputs": [],
   "execution_count": null
  },
  {
   "metadata": {
    "ExecuteTime": {
     "end_time": "2024-11-21T14:28:31.161920Z",
     "start_time": "2024-11-21T14:28:31.155456Z"
    }
   },
   "cell_type": "code",
   "source": "",
   "id": "86101f1563de325c",
   "outputs": [],
   "execution_count": null
  },
  {
   "metadata": {
    "ExecuteTime": {
     "end_time": "2024-11-21T14:28:31.334471Z",
     "start_time": "2024-11-21T14:28:31.330785Z"
    }
   },
   "cell_type": "code",
   "source": "",
   "id": "87fb483e427aec2",
   "outputs": [],
   "execution_count": null
  },
  {
   "metadata": {
    "ExecuteTime": {
     "end_time": "2024-11-21T14:28:31.674184Z",
     "start_time": "2024-11-21T14:28:31.670838Z"
    }
   },
   "cell_type": "code",
   "source": "",
   "id": "7da9f771d1eb6616",
   "outputs": [],
   "execution_count": null
  },
  {
   "metadata": {
    "ExecuteTime": {
     "end_time": "2024-11-21T14:28:32.025654Z",
     "start_time": "2024-11-21T14:28:32.023024Z"
    }
   },
   "cell_type": "code",
   "source": "",
   "id": "576dc301690eacae",
   "outputs": [],
   "execution_count": null
  },
  {
   "metadata": {},
   "cell_type": "code",
   "outputs": [],
   "execution_count": null,
   "source": "",
   "id": "b45d5a6c4b78fd72"
  }
 ],
 "metadata": {
  "kernelspec": {
   "display_name": "Python 3",
   "language": "python",
   "name": "python3"
  },
  "language_info": {
   "codemirror_mode": {
    "name": "ipython",
    "version": 2
   },
   "file_extension": ".py",
   "mimetype": "text/x-python",
   "name": "python",
   "nbconvert_exporter": "python",
   "pygments_lexer": "ipython2",
   "version": "2.7.6"
  }
 },
 "nbformat": 4,
 "nbformat_minor": 5
}
