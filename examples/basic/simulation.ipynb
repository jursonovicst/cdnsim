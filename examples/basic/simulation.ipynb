{
 "cells": [
  {
   "cell_type": "code",
   "id": "initial_id",
   "metadata": {
    "collapsed": true,
    "ExecuteTime": {
     "end_time": "2024-11-21T07:58:41.353458Z",
     "start_time": "2024-11-21T07:58:41.349235Z"
    }
   },
   "source": [
    ""
   ],
   "outputs": [],
   "execution_count": null
  },
  {
   "metadata": {},
   "cell_type": "code",
   "outputs": [],
   "execution_count": null,
   "source": "",
   "id": "4d38ff27ed948067"
  },
  {
   "metadata": {
    "ExecuteTime": {
     "end_time": "2024-11-21T10:43:24.641628Z",
     "start_time": "2024-11-21T10:43:23.638520Z"
    }
   },
   "cell_type": "code",
   "source": [
    "from cdnsim.arrival import Arrival\n",
    "\n",
    "\n",
    "class Constant(Arrival):\n",
    "    \"\"\"\n",
    "    Constant arrival process. *rate* number of arrival in every tick.\n",
    "    \"\"\"\n",
    "    def __init__(self, rate: float, ticks: int, **kwargs):\n",
    "        super().__init__(**kwargs)\n",
    "        self.__rate = rate\n",
    "        self.__ticks = ticks\n",
    "\n",
    "    def __next__(self) -> int:\n",
    "        if self.__ticks <= 0:\n",
    "            raise StopIteration\n",
    "        self.__ticks -= 1\n",
    "        return int(self.__rate)\n"
   ],
   "id": "f987996d33943339",
   "outputs": [],
   "execution_count": 1
  },
  {
   "metadata": {
    "ExecuteTime": {
     "end_time": "2024-11-21T10:43:25.198221Z",
     "start_time": "2024-11-21T10:43:25.194907Z"
    }
   },
   "cell_type": "code",
   "source": "",
   "id": "ff692d4b11727b28",
   "outputs": [],
   "execution_count": null
  },
  {
   "metadata": {
    "ExecuteTime": {
     "end_time": "2024-11-21T10:43:26.812091Z",
     "start_time": "2024-11-21T10:43:25.653955Z"
    }
   },
   "cell_type": "code",
   "source": [
    "from typing import Self\n",
    "\n",
    "import pandas as pd\n",
    "from scipy.stats import randint\n",
    "import numpy as np\n",
    "\n",
    "from cdnsim.requests.requests import BaseRequests\n",
    "\n",
    "\n",
    "class Uniform(BaseRequests):\n",
    "    \"\"\"\n",
    "    Implements a Uniform distribution based request profile.\n",
    "    \"\"\"\n",
    "\n",
    "    def __init__(self, cbase: int):\n",
    "        \"\"\"\n",
    "        :param cbase: number of content\n",
    "        \"\"\"\n",
    "        super().__init__([],{'content':[]})\n",
    "        self._cbase = cbase\n",
    "\n",
    "    def generate(self, k: int) -> Self:\n",
    "        r = np.unique(randint.rvs(1, self._cbase + 1, size=k), return_counts=True)\n",
    "        return BaseRequests(freqs=r[1], index={'content': r[0]})\n"
   ],
   "id": "fbb2b446d693eb17",
   "outputs": [],
   "execution_count": 2
  },
  {
   "metadata": {
    "ExecuteTime": {
     "end_time": "2024-11-21T10:43:27.375830Z",
     "start_time": "2024-11-21T10:43:27.364457Z"
    }
   },
   "cell_type": "code",
   "source": "",
   "id": "17ff738e7b50e7e8",
   "outputs": [],
   "execution_count": null
  },
  {
   "metadata": {
    "ExecuteTime": {
     "end_time": "2024-11-21T10:43:27.537513Z",
     "start_time": "2024-11-21T10:43:27.524365Z"
    }
   },
   "cell_type": "code",
   "source": [
    "from cdnsim.cache import Cache\n",
    "from cdnsim.requests import BaseRequests\n",
    "\n",
    "\n",
    "class NonCache(Cache):\n",
    "    \"\"\"\n",
    "    For demonstration purposes, a non caching cache implementation.\n",
    "    \"\"\"\n",
    "    def _process_ingress(self, requests: BaseRequests) -> None:\n",
    "        # do not cache, simply forward all requests via a round-robin remote selection\n",
    "        for remote, request in zip(self.remotes, requests / len(self.remotes)):\n",
    "            self._send(remote, request)\n"
   ],
   "id": "ead601f1c66bfc82",
   "outputs": [],
   "execution_count": 3
  },
  {
   "metadata": {
    "ExecuteTime": {
     "end_time": "2024-11-21T10:43:28.438472Z",
     "start_time": "2024-11-21T10:43:28.436289Z"
    }
   },
   "cell_type": "code",
   "source": "",
   "id": "28cfd9c7182f0ead",
   "outputs": [],
   "execution_count": null
  },
  {
   "metadata": {
    "jupyter": {
     "is_executing": true
    },
    "ExecuteTime": {
     "start_time": "2024-11-21T10:43:28.688613Z"
    }
   },
   "cell_type": "code",
   "source": [
    "from cdnsim import Client, Origin\n",
    "# create the nodes\n",
    "client = Client(arrival=Constant(rate=50, ticks=5), requests=Uniform(cbase=20))\n",
    "cache = NonCache()\n",
    "origin = Origin()\n",
    "\n",
    "# establish connections\n",
    "client.connect_to(cache)\n",
    "cache.connect_to(origin)\n",
    "\n",
    "# run simulation\n",
    "try:\n",
    "    client.start_all()\n",
    "    client.join_all()\n",
    "except KeyboardInterrupt:\n",
    "    pass\n",
    "finally:\n",
    "    client.terminate()\n",
    "\n",
    "# get stats\n",
    "...\n"
   ],
   "id": "b1ecda7fbf6d8cc1",
   "outputs": [],
   "execution_count": null
  },
  {
   "metadata": {},
   "cell_type": "code",
   "outputs": [],
   "execution_count": null,
   "source": "",
   "id": "7a63670d0f0f2bff"
  },
  {
   "metadata": {},
   "cell_type": "code",
   "outputs": [],
   "execution_count": null,
   "source": "",
   "id": "89dd02fe431d4bd9"
  },
  {
   "metadata": {},
   "cell_type": "code",
   "outputs": [],
   "execution_count": null,
   "source": "",
   "id": "c4324b7e6636a0bd"
  },
  {
   "metadata": {},
   "cell_type": "code",
   "outputs": [],
   "execution_count": null,
   "source": "",
   "id": "b943b265198c7525"
  },
  {
   "metadata": {
    "ExecuteTime": {
     "end_time": "2024-11-21T09:42:04.227270400Z",
     "start_time": "2024-11-21T07:58:41.559753Z"
    }
   },
   "cell_type": "code",
   "source": [
    "# %load constant.py\n",
    "from cdnsim.arrival import Arrival\n",
    "\n",
    "\n",
    "class Constant(Arrival):\n",
    "    \"\"\"\n",
    "    Constant arrival process. *rate* number of arrival in every tick.\n",
    "    \"\"\"\n",
    "    def __init__(self, rate: float, ticks: int, **kwargs):\n",
    "        super().__init__(**kwargs)\n",
    "        self.__rate = rate\n",
    "        self.__ticks = ticks\n",
    "\n",
    "    def __next__(self) -> int:\n",
    "        print(f\"IIIIII {self.__ticks}\")\n",
    "        if self.__ticks <= 0:\n",
    "            raise StopIteration\n",
    "        self.__ticks -= 1\n",
    "        return int(self.__rate*2)\n"
   ],
   "id": "c8df1dd838813f6a",
   "outputs": [],
   "execution_count": 4
  },
  {
   "metadata": {
    "ExecuteTime": {
     "end_time": "2024-11-21T07:58:41.782711Z",
     "start_time": "2024-11-21T07:58:41.774311Z"
    }
   },
   "cell_type": "code",
   "source": "print(1)",
   "id": "ad040373e8c7088f",
   "outputs": [
    {
     "name": "stdout",
     "output_type": "stream",
     "text": [
      "1\n"
     ]
    }
   ],
   "execution_count": 5
  },
  {
   "metadata": {},
   "cell_type": "code",
   "outputs": [],
   "execution_count": null,
   "source": "",
   "id": "ae3b3054069524de"
  }
 ],
 "metadata": {
  "kernelspec": {
   "display_name": "Python 3",
   "language": "python",
   "name": "python3"
  },
  "language_info": {
   "codemirror_mode": {
    "name": "ipython",
    "version": 2
   },
   "file_extension": ".py",
   "mimetype": "text/x-python",
   "name": "python",
   "nbconvert_exporter": "python",
   "pygments_lexer": "ipython2",
   "version": "2.7.6"
  }
 },
 "nbformat": 4,
 "nbformat_minor": 5
}
